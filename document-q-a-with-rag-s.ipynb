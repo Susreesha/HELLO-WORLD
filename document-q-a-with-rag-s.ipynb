{
 "cells": [
  {
   "cell_type": "code",
   "execution_count": 1,
   "id": "4c3f2b1a",
   "metadata": {
    "_cell_guid": "b1076dfc-b9ad-4769-8c92-a6c4dae69d19",
    "_uuid": "8f2839f25d086af736a60e9eeb907d3b93b6e0e5",
    "execution": {
     "iopub.execute_input": "2024-11-13T09:39:27.971684Z",
     "iopub.status.busy": "2024-11-13T09:39:27.970412Z",
     "iopub.status.idle": "2024-11-13T09:39:28.916810Z",
     "shell.execute_reply": "2024-11-13T09:39:28.915572Z"
    },
    "papermill": {
     "duration": 0.958122,
     "end_time": "2024-11-13T09:39:28.919967",
     "exception": false,
     "start_time": "2024-11-13T09:39:27.961845",
     "status": "completed"
    },
    "tags": []
   },
   "outputs": [],
   "source": [
    "# This Python 3 environment comes with many helpful analytics libraries installed\n",
    "# It is defined by the kaggle/python Docker image: https://github.com/kaggle/docker-python\n",
    "# For example, here's several helpful packages to load\n",
    "\n",
    "import numpy as np # linear algebra\n",
    "import pandas as pd # data processing, CSV file I/O (e.g. pd.read_csv)\n",
    "\n",
    "# Input data files are available in the read-only \"../input/\" directory\n",
    "# For example, running this (by clicking run or pressing Shift+Enter) will list all files under the input directory\n",
    "\n",
    "import os\n",
    "for dirname, _, filenames in os.walk('/kaggle/input'):\n",
    "    for filename in filenames:\n",
    "        print(os.path.join(dirname, filename))\n",
    "\n",
    "# You can write up to 20GB to the current directory (/kaggle/working/) that gets preserved as output when you create a version using \"Save & Run All\" \n",
    "# You can also write temporary files to /kaggle/temp/, but they won't be saved outside of the current session"
   ]
  },
  {
   "cell_type": "code",
   "execution_count": 2,
   "id": "8d36a368",
   "metadata": {
    "execution": {
     "iopub.execute_input": "2024-11-13T09:39:28.933424Z",
     "iopub.status.busy": "2024-11-13T09:39:28.932840Z",
     "iopub.status.idle": "2024-11-13T09:40:29.156940Z",
     "shell.execute_reply": "2024-11-13T09:40:29.155054Z"
    },
    "papermill": {
     "duration": 60.233924,
     "end_time": "2024-11-13T09:40:29.159714",
     "exception": false,
     "start_time": "2024-11-13T09:39:28.925790",
     "status": "completed"
    },
    "tags": []
   },
   "outputs": [
    {
     "name": "stdout",
     "output_type": "stream",
     "text": [
      "\u001b[31mERROR: pip's dependency resolver does not currently take into account all the packages that are installed. This behaviour is the source of the following dependency conflicts.\r\n",
      "kfp 2.5.0 requires google-cloud-storage<3,>=2.2.1, but you have google-cloud-storage 1.44.0 which is incompatible.\r\n",
      "kfp 2.5.0 requires kubernetes<27,>=8.0.0, but you have kubernetes 31.0.0 which is incompatible.\u001b[0m\u001b[31m\r\n",
      "\u001b[0mNote: you may need to restart the kernel to use updated packages.\n"
     ]
    }
   ],
   "source": [
    "%pip install -U -q \"google-generativeai>=0.8.3\" chromadb\n"
   ]
  },
  {
   "cell_type": "code",
   "execution_count": 3,
   "id": "9a4a4367",
   "metadata": {
    "execution": {
     "iopub.execute_input": "2024-11-13T09:40:29.173249Z",
     "iopub.status.busy": "2024-11-13T09:40:29.172770Z",
     "iopub.status.idle": "2024-11-13T09:40:30.378837Z",
     "shell.execute_reply": "2024-11-13T09:40:30.377663Z"
    },
    "papermill": {
     "duration": 1.21676,
     "end_time": "2024-11-13T09:40:30.381897",
     "exception": false,
     "start_time": "2024-11-13T09:40:29.165137",
     "status": "completed"
    },
    "tags": []
   },
   "outputs": [],
   "source": [
    "import google.generativeai as genai\n",
    "from IPython.display import Markdown\n"
   ]
  },
  {
   "cell_type": "code",
   "execution_count": 4,
   "id": "354e552e",
   "metadata": {
    "execution": {
     "iopub.execute_input": "2024-11-13T09:40:30.395193Z",
     "iopub.status.busy": "2024-11-13T09:40:30.394522Z",
     "iopub.status.idle": "2024-11-13T09:40:30.555681Z",
     "shell.execute_reply": "2024-11-13T09:40:30.554486Z"
    },
    "papermill": {
     "duration": 0.171289,
     "end_time": "2024-11-13T09:40:30.558801",
     "exception": false,
     "start_time": "2024-11-13T09:40:30.387512",
     "status": "completed"
    },
    "tags": []
   },
   "outputs": [],
   "source": [
    "from kaggle_secrets import UserSecretsClient\n",
    "\n",
    "GOOGLE_API_KEY = UserSecretsClient().get_secret(\"GOOGLE_API_KEY\")\n",
    "genai.configure(api_key=GOOGLE_API_KEY)\n"
   ]
  },
  {
   "cell_type": "code",
   "execution_count": 5,
   "id": "afc77da0",
   "metadata": {
    "execution": {
     "iopub.execute_input": "2024-11-13T09:40:30.572508Z",
     "iopub.status.busy": "2024-11-13T09:40:30.571329Z",
     "iopub.status.idle": "2024-11-13T09:40:31.018056Z",
     "shell.execute_reply": "2024-11-13T09:40:31.016573Z"
    },
    "papermill": {
     "duration": 0.456746,
     "end_time": "2024-11-13T09:40:31.021131",
     "exception": false,
     "start_time": "2024-11-13T09:40:30.564385",
     "status": "completed"
    },
    "tags": []
   },
   "outputs": [
    {
     "name": "stdout",
     "output_type": "stream",
     "text": [
      "models/embedding-001\n",
      "models/text-embedding-004\n"
     ]
    }
   ],
   "source": [
    "for m in genai.list_models():\n",
    "    if \"embedContent\" in m.supported_generation_methods:\n",
    "        print(m.name)\n"
   ]
  },
  {
   "cell_type": "code",
   "execution_count": 6,
   "id": "a39e45a3",
   "metadata": {
    "execution": {
     "iopub.execute_input": "2024-11-13T09:40:31.034556Z",
     "iopub.status.busy": "2024-11-13T09:40:31.033687Z",
     "iopub.status.idle": "2024-11-13T09:40:31.041050Z",
     "shell.execute_reply": "2024-11-13T09:40:31.039743Z"
    },
    "papermill": {
     "duration": 0.017169,
     "end_time": "2024-11-13T09:40:31.043976",
     "exception": false,
     "start_time": "2024-11-13T09:40:31.026807",
     "status": "completed"
    },
    "tags": []
   },
   "outputs": [],
   "source": [
    "DOCUMENT1 = \"Operating the Climate Control System  Your Googlecar has a climate control system that allows you to adjust the temperature and airflow in the car. To operate the climate control system, use the buttons and knobs located on the center console.  Temperature: The temperature knob controls the temperature inside the car. Turn the knob clockwise to increase the temperature or counterclockwise to decrease the temperature. Airflow: The airflow knob controls the amount of airflow inside the car. Turn the knob clockwise to increase the airflow or counterclockwise to decrease the airflow. Fan speed: The fan speed knob controls the speed of the fan. Turn the knob clockwise to increase the fan speed or counterclockwise to decrease the fan speed. Mode: The mode button allows you to select the desired mode. The available modes are: Auto: The car will automatically adjust the temperature and airflow to maintain a comfortable level. Cool: The car will blow cool air into the car. Heat: The car will blow warm air into the car. Defrost: The car will blow warm air onto the windshield to defrost it.\"\n",
    "DOCUMENT2 = 'Your Googlecar has a large touchscreen display that provides access to a variety of features, including navigation, entertainment, and climate control. To use the touchscreen display, simply touch the desired icon.  For example, you can touch the \"Navigation\" icon to get directions to your destination or touch the \"Music\" icon to play your favorite songs.'\n",
    "DOCUMENT3 = \"Shifting Gears Your Googlecar has an automatic transmission. To shift gears, simply move the shift lever to the desired position.  Park: This position is used when you are parked. The wheels are locked and the car cannot move. Reverse: This position is used to back up. Neutral: This position is used when you are stopped at a light or in traffic. The car is not in gear and will not move unless you press the gas pedal. Drive: This position is used to drive forward. Low: This position is used for driving in snow or other slippery conditions.\"\n",
    "\n",
    "documents = [DOCUMENT1, DOCUMENT2, DOCUMENT3]\n"
   ]
  },
  {
   "cell_type": "code",
   "execution_count": 7,
   "id": "c3db6408",
   "metadata": {
    "execution": {
     "iopub.execute_input": "2024-11-13T09:40:31.056721Z",
     "iopub.status.busy": "2024-11-13T09:40:31.056257Z",
     "iopub.status.idle": "2024-11-13T09:40:32.481272Z",
     "shell.execute_reply": "2024-11-13T09:40:32.479824Z"
    },
    "papermill": {
     "duration": 1.435076,
     "end_time": "2024-11-13T09:40:32.484447",
     "exception": false,
     "start_time": "2024-11-13T09:40:31.049371",
     "status": "completed"
    },
    "tags": []
   },
   "outputs": [],
   "source": [
    "from chromadb import Documents, EmbeddingFunction, Embeddings\n",
    "from google.api_core import retry\n",
    "\n",
    "\n",
    "class GeminiEmbeddingFunction(EmbeddingFunction):\n",
    "    # Specify whether to generate embeddings for documents, or queries\n",
    "    document_mode = True\n",
    "\n",
    "    def __call__(self, input: Documents) -> Embeddings:\n",
    "        if self.document_mode:\n",
    "            embedding_task = \"retrieval_document\"\n",
    "        else:\n",
    "            embedding_task = \"retrieval_query\"\n",
    "\n",
    "        retry_policy = {\"retry\": retry.Retry(predicate=retry.if_transient_error)}\n",
    "\n",
    "        response = genai.embed_content(\n",
    "            model=\"models/text-embedding-004\",\n",
    "            content=input,\n",
    "            task_type=embedding_task,\n",
    "            request_options=retry_policy,\n",
    "        )\n",
    "        return response[\"embedding\"]"
   ]
  },
  {
   "cell_type": "code",
   "execution_count": 8,
   "id": "487afc5b",
   "metadata": {
    "execution": {
     "iopub.execute_input": "2024-11-13T09:40:32.498959Z",
     "iopub.status.busy": "2024-11-13T09:40:32.497438Z",
     "iopub.status.idle": "2024-11-13T09:40:33.113249Z",
     "shell.execute_reply": "2024-11-13T09:40:33.112016Z"
    },
    "papermill": {
     "duration": 0.626,
     "end_time": "2024-11-13T09:40:33.116235",
     "exception": false,
     "start_time": "2024-11-13T09:40:32.490235",
     "status": "completed"
    },
    "tags": []
   },
   "outputs": [],
   "source": [
    "import chromadb\n",
    "\n",
    "DB_NAME = \"googlecardb\"\n",
    "embed_fn = GeminiEmbeddingFunction()\n",
    "embed_fn.document_mode = True\n",
    "\n",
    "chroma_client = chromadb.Client()\n",
    "db = chroma_client.get_or_create_collection(name=DB_NAME, embedding_function=embed_fn)\n",
    "\n",
    "db.add(documents=documents, ids=[str(i) for i in range(len(documents))])\n"
   ]
  },
  {
   "cell_type": "code",
   "execution_count": 9,
   "id": "b13fc4b2",
   "metadata": {
    "execution": {
     "iopub.execute_input": "2024-11-13T09:40:33.129635Z",
     "iopub.status.busy": "2024-11-13T09:40:33.129156Z",
     "iopub.status.idle": "2024-11-13T09:40:33.141247Z",
     "shell.execute_reply": "2024-11-13T09:40:33.139826Z"
    },
    "papermill": {
     "duration": 0.021703,
     "end_time": "2024-11-13T09:40:33.143941",
     "exception": false,
     "start_time": "2024-11-13T09:40:33.122238",
     "status": "completed"
    },
    "tags": []
   },
   "outputs": [
    {
     "data": {
      "text/plain": [
       "3"
      ]
     },
     "execution_count": 9,
     "metadata": {},
     "output_type": "execute_result"
    }
   ],
   "source": [
    "db.count()\n",
    "# You can peek at the data too.\n",
    "# db.peek(1)\n"
   ]
  },
  {
   "cell_type": "code",
   "execution_count": 10,
   "id": "2116cf3e",
   "metadata": {
    "execution": {
     "iopub.execute_input": "2024-11-13T09:40:33.157592Z",
     "iopub.status.busy": "2024-11-13T09:40:33.157046Z",
     "iopub.status.idle": "2024-11-13T09:40:33.616712Z",
     "shell.execute_reply": "2024-11-13T09:40:33.614899Z"
    },
    "papermill": {
     "duration": 0.4713,
     "end_time": "2024-11-13T09:40:33.621034",
     "exception": false,
     "start_time": "2024-11-13T09:40:33.149734",
     "status": "completed"
    },
    "tags": []
   },
   "outputs": [
    {
     "data": {
      "text/markdown": [
       "Your Googlecar has a large touchscreen display that provides access to a variety of features, including navigation, entertainment, and climate control. To use the touchscreen display, simply touch the desired icon.  For example, you can touch the \"Navigation\" icon to get directions to your destination or touch the \"Music\" icon to play your favorite songs."
      ],
      "text/plain": [
       "<IPython.core.display.Markdown object>"
      ]
     },
     "execution_count": 10,
     "metadata": {},
     "output_type": "execute_result"
    }
   ],
   "source": [
    "# Switch to query mode when generating embeddings.\n",
    "embed_fn.document_mode = False\n",
    "\n",
    "# Search the Chroma DB using the specified query.\n",
    "query = \"How do you use the touchscreen to play music?\"\n",
    "\n",
    "result = db.query(query_texts=[query], n_results=1)\n",
    "[[passage]] = result[\"documents\"]\n",
    "\n",
    "Markdown(passage)\n"
   ]
  },
  {
   "cell_type": "code",
   "execution_count": 11,
   "id": "64dc1a7d",
   "metadata": {
    "execution": {
     "iopub.execute_input": "2024-11-13T09:40:33.641191Z",
     "iopub.status.busy": "2024-11-13T09:40:33.639702Z",
     "iopub.status.idle": "2024-11-13T09:40:33.648533Z",
     "shell.execute_reply": "2024-11-13T09:40:33.647299Z"
    },
    "papermill": {
     "duration": 0.020219,
     "end_time": "2024-11-13T09:40:33.651827",
     "exception": false,
     "start_time": "2024-11-13T09:40:33.631608",
     "status": "completed"
    },
    "tags": []
   },
   "outputs": [
    {
     "name": "stdout",
     "output_type": "stream",
     "text": [
      "You are a helpful and informative bot that answers questions using text from the reference passage included below. \n",
      "Be sure to respond in a complete sentence, being comprehensive, including all relevant background information. \n",
      "However, you are talking to a non-technical audience, so be sure to break down complicated concepts and \n",
      "strike a friendly and converstional tone. If the passage is irrelevant to the answer, you may ignore it.\n",
      "\n",
      "QUESTION: How do you use the touchscreen to play music?\n",
      "PASSAGE: Your Googlecar has a large touchscreen display that provides access to a variety of features, including navigation, entertainment, and climate control. To use the touchscreen display, simply touch the desired icon.  For example, you can touch the \"Navigation\" icon to get directions to your destination or touch the \"Music\" icon to play your favorite songs.\n",
      "\n"
     ]
    }
   ],
   "source": [
    "passage_oneline = passage.replace(\"\\n\", \" \")\n",
    "query_oneline = query.replace(\"\\n\", \" \")\n",
    "\n",
    "# This prompt is where you can specify any guidance on tone, or what topics the model should stick to, or avoid.\n",
    "prompt = f\"\"\"You are a helpful and informative bot that answers questions using text from the reference passage included below. \n",
    "Be sure to respond in a complete sentence, being comprehensive, including all relevant background information. \n",
    "However, you are talking to a non-technical audience, so be sure to break down complicated concepts and \n",
    "strike a friendly and converstional tone. If the passage is irrelevant to the answer, you may ignore it.\n",
    "\n",
    "QUESTION: {query_oneline}\n",
    "PASSAGE: {passage_oneline}\n",
    "\"\"\"\n",
    "print(prompt)\n"
   ]
  },
  {
   "cell_type": "code",
   "execution_count": 12,
   "id": "8aca43f6",
   "metadata": {
    "execution": {
     "iopub.execute_input": "2024-11-13T09:40:33.665728Z",
     "iopub.status.busy": "2024-11-13T09:40:33.665184Z",
     "iopub.status.idle": "2024-11-13T09:40:34.209819Z",
     "shell.execute_reply": "2024-11-13T09:40:34.208405Z"
    },
    "papermill": {
     "duration": 0.554979,
     "end_time": "2024-11-13T09:40:34.212693",
     "exception": false,
     "start_time": "2024-11-13T09:40:33.657714",
     "status": "completed"
    },
    "tags": []
   },
   "outputs": [
    {
     "data": {
      "text/markdown": [
       "To play music on your Googlecar's touchscreen, simply touch the \"Music\" icon. It's as easy as that! \n"
      ],
      "text/plain": [
       "<IPython.core.display.Markdown object>"
      ]
     },
     "execution_count": 12,
     "metadata": {},
     "output_type": "execute_result"
    }
   ],
   "source": [
    "model = genai.GenerativeModel(\"gemini-1.5-flash-latest\")\n",
    "answer = model.generate_content(prompt)\n",
    "Markdown(answer.text)\n"
   ]
  }
 ],
 "metadata": {
  "kaggle": {
   "accelerator": "none",
   "dataSources": [],
   "dockerImageVersionId": 30786,
   "isGpuEnabled": false,
   "isInternetEnabled": true,
   "language": "python",
   "sourceType": "notebook"
  },
  "kernelspec": {
   "display_name": "Python 3",
   "language": "python",
   "name": "python3"
  },
  "language_info": {
   "codemirror_mode": {
    "name": "ipython",
    "version": 3
   },
   "file_extension": ".py",
   "mimetype": "text/x-python",
   "name": "python",
   "nbconvert_exporter": "python",
   "pygments_lexer": "ipython3",
   "version": "3.10.14"
  },
  "papermill": {
   "default_parameters": {},
   "duration": 70.424496,
   "end_time": "2024-11-13T09:40:35.244083",
   "environment_variables": {},
   "exception": null,
   "input_path": "__notebook__.ipynb",
   "output_path": "__notebook__.ipynb",
   "parameters": {},
   "start_time": "2024-11-13T09:39:24.819587",
   "version": "2.6.0"
  }
 },
 "nbformat": 4,
 "nbformat_minor": 5
}
